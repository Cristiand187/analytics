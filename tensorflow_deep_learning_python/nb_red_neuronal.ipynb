{
 "cells": [
  {
   "cell_type": "code",
   "execution_count": 3,
   "metadata": {},
   "outputs": [],
   "source": [
    "import tensorflow as tf\n",
    "import numpy as np"
   ]
  },
  {
   "cell_type": "code",
   "execution_count": 6,
   "metadata": {},
   "outputs": [],
   "source": [
    "aleatorio_a = np.random.uniform(0, 50, (4, 4))"
   ]
  },
  {
   "cell_type": "code",
   "execution_count": 7,
   "metadata": {},
   "outputs": [
    {
     "data": {
      "text/plain": [
       "array([[8.50013751e+00, 3.23583772e-02, 3.19730657e+01, 4.45398213e+01],\n",
       "       [3.15797756e+01, 1.51329192e+01, 8.27120450e+00, 1.63043038e+01],\n",
       "       [4.73376928e+01, 2.33639995e+01, 9.72809852e+00, 4.82674664e+01],\n",
       "       [3.19839217e+01, 2.36846957e+01, 2.31942478e+01, 1.81523123e+01]])"
      ]
     },
     "execution_count": 7,
     "metadata": {},
     "output_type": "execute_result"
    }
   ],
   "source": [
    "aleatorio_a"
   ]
  },
  {
   "cell_type": "code",
   "execution_count": 8,
   "metadata": {},
   "outputs": [],
   "source": [
    "aleatorio_b = np.random.uniform(0, 50, (4, 1))"
   ]
  },
  {
   "cell_type": "code",
   "execution_count": 10,
   "metadata": {},
   "outputs": [
    {
     "data": {
      "text/plain": [
       "array([[16.83299083],\n",
       "       [19.17445027],\n",
       "       [40.1871203 ],\n",
       "       [45.39604492]])"
      ]
     },
     "execution_count": 10,
     "metadata": {},
     "output_type": "execute_result"
    }
   ],
   "source": [
    "aleatorio_b"
   ]
  },
  {
   "cell_type": "code",
   "execution_count": 12,
   "metadata": {},
   "outputs": [],
   "source": [
    "a = tf.placeholder(tf.float32)\n",
    "b = tf.placeholder(tf.float32)"
   ]
  },
  {
   "cell_type": "code",
   "execution_count": 15,
   "metadata": {},
   "outputs": [],
   "source": [
    "suma = a + b\n",
    "mul = a * b"
   ]
  },
  {
   "cell_type": "code",
   "execution_count": 19,
   "metadata": {},
   "outputs": [
    {
     "name": "stdout",
     "output_type": "stream",
     "text": [
      "68.0\n"
     ]
    }
   ],
   "source": [
    "with tf.Session() as session:\n",
    "    resultado = session.run(suma, feed_dict={a:12, b:56})\n",
    "    print(resultado)"
   ]
  },
  {
   "cell_type": "code",
   "execution_count": 20,
   "metadata": {},
   "outputs": [
    {
     "name": "stdout",
     "output_type": "stream",
     "text": [
      "[[25.333128 16.865349 48.806057 61.37281 ]\n",
      " [50.754227 34.30737  27.445656 35.478752]\n",
      " [87.52481  63.551117 49.91522  88.45459 ]\n",
      " [77.37997  69.08074  68.590294 63.54836 ]]\n"
     ]
    }
   ],
   "source": [
    "with tf.Session() as session:\n",
    "    resultado = session.run(suma, feed_dict={a:aleatorio_a, b:aleatorio_b})\n",
    "    print(resultado)"
   ]
  },
  {
   "cell_type": "code",
   "execution_count": 22,
   "metadata": {},
   "outputs": [
    {
     "name": "stdout",
     "output_type": "stream",
     "text": [
      "672.0\n"
     ]
    }
   ],
   "source": [
    "with tf.Session() as session:\n",
    "    resultado_m = session.run(mul, feed_dict={a:12, b:56})\n",
    "    print(resultado_m)"
   ]
  },
  {
   "cell_type": "code",
   "execution_count": 23,
   "metadata": {},
   "outputs": [
    {
     "name": "stdout",
     "output_type": "stream",
     "text": [
      "[[1.4308273e+02 5.4468828e-01 5.3820233e+02 7.4973840e+02]\n",
      " [6.0552484e+02 2.9016541e+02 1.5859581e+02 3.1262607e+02]\n",
      " [1.9023655e+03 9.3893182e+02 3.9094427e+02 1.9397305e+03]\n",
      " [1.4519435e+03 1.0751915e+03 1.0529271e+03 8.2404321e+02]]\n"
     ]
    }
   ],
   "source": [
    "with tf.Session() as session:\n",
    "    resultado_m = session.run(mul, feed_dict={a:aleatorio_a, b:aleatorio_b})\n",
    "    print(resultado_m)"
   ]
  },
  {
   "cell_type": "markdown",
   "metadata": {},
   "source": [
    "### Red neuronal"
   ]
  },
  {
   "cell_type": "code",
   "execution_count": 24,
   "metadata": {},
   "outputs": [],
   "source": [
    "caracteristicas = 10\n",
    "neuronas = 4"
   ]
  },
  {
   "cell_type": "code",
   "execution_count": 25,
   "metadata": {},
   "outputs": [],
   "source": [
    "x = tf.placeholder(tf.float32, (None, caracteristicas))"
   ]
  },
  {
   "cell_type": "code",
   "execution_count": 27,
   "metadata": {},
   "outputs": [],
   "source": [
    "w = tf.Variable(tf.random_normal([caracteristicas, neuronas]))"
   ]
  },
  {
   "cell_type": "code",
   "execution_count": 28,
   "metadata": {},
   "outputs": [],
   "source": [
    "b = tf.Variable(tf.ones([neuronas]))"
   ]
  },
  {
   "cell_type": "code",
   "execution_count": 29,
   "metadata": {},
   "outputs": [],
   "source": [
    "mult = tf.matmul(x, w)"
   ]
  },
  {
   "cell_type": "code",
   "execution_count": 32,
   "metadata": {},
   "outputs": [],
   "source": [
    "z = tf.add(mult, b)"
   ]
  },
  {
   "cell_type": "code",
   "execution_count": 33,
   "metadata": {},
   "outputs": [],
   "source": [
    "activacion = tf.sigmoid(z)"
   ]
  },
  {
   "cell_type": "code",
   "execution_count": 34,
   "metadata": {},
   "outputs": [],
   "source": [
    "inicializacion = tf.global_variables_initializer()"
   ]
  },
  {
   "cell_type": "code",
   "execution_count": 35,
   "metadata": {},
   "outputs": [],
   "source": [
    "valores_x = np.random.random([1, caracteristicas])"
   ]
  },
  {
   "cell_type": "code",
   "execution_count": 36,
   "metadata": {},
   "outputs": [
    {
     "data": {
      "text/plain": [
       "array([[0.38032325, 0.9921001 , 0.14659067, 0.44047192, 0.34602157,\n",
       "        0.79097799, 0.67099701, 0.88557695, 0.50372255, 0.45716259]])"
      ]
     },
     "execution_count": 36,
     "metadata": {},
     "output_type": "execute_result"
    }
   ],
   "source": [
    "valores_x"
   ]
  },
  {
   "cell_type": "code",
   "execution_count": 38,
   "metadata": {},
   "outputs": [],
   "source": [
    "with tf.Session() as session:\n",
    "    session.run(inicializacion)\n",
    "    resultado = session.run(activacion, feed_dict={x:valores_x})"
   ]
  },
  {
   "cell_type": "code",
   "execution_count": 39,
   "metadata": {},
   "outputs": [
    {
     "name": "stdout",
     "output_type": "stream",
     "text": [
      "[[0.7327169 0.727549  0.9911642 0.3780237]]\n"
     ]
    }
   ],
   "source": [
    "print(resultado)"
   ]
  }
 ],
 "metadata": {
  "kernelspec": {
   "display_name": "Python 3",
   "language": "python",
   "name": "python3"
  },
  "language_info": {
   "codemirror_mode": {
    "name": "ipython",
    "version": 3
   },
   "file_extension": ".py",
   "mimetype": "text/x-python",
   "name": "python",
   "nbconvert_exporter": "python",
   "pygments_lexer": "ipython3",
   "version": "3.5.6"
  }
 },
 "nbformat": 4,
 "nbformat_minor": 4
}
